{
 "cells": [
  {
   "cell_type": "code",
   "execution_count": 1,
   "metadata": {},
   "outputs": [],
   "source": [
    "sentence = \"This is a sentence, I want to break it into words\""
   ]
  },
  {
   "cell_type": "code",
   "execution_count": 2,
   "metadata": {},
   "outputs": [
    {
     "data": {
      "text/plain": [
       "['This',\n",
       " 'is',\n",
       " 'a',\n",
       " 'sentence,',\n",
       " 'I',\n",
       " 'want',\n",
       " 'to',\n",
       " 'break',\n",
       " 'it',\n",
       " 'into',\n",
       " 'words']"
      ]
     },
     "execution_count": 2,
     "metadata": {},
     "output_type": "execute_result"
    }
   ],
   "source": [
    "sentence.split()"
   ]
  },
  {
   "cell_type": "code",
   "execution_count": 5,
   "metadata": {},
   "outputs": [
    {
     "data": {
      "text/plain": [
       "['this',\n",
       " 'is',\n",
       " 'a',\n",
       " 'sentence',\n",
       " 'i',\n",
       " 'want',\n",
       " 'to',\n",
       " 'break',\n",
       " 'it',\n",
       " 'into',\n",
       " 'words']"
      ]
     },
     "execution_count": 5,
     "metadata": {},
     "output_type": "execute_result"
    }
   ],
   "source": [
    "sentence.lower().replace(\",\", \"\").split()"
   ]
  },
  {
   "cell_type": "code",
   "execution_count": 20,
   "metadata": {},
   "outputs": [],
   "source": [
    "logs = [\"No problem    03/02/2021\",\n",
    "         \"There was a problem    03/02/2021\",\n",
    "         \"I saw some coyotes on my lawn    02/01/2021\",\n",
    "        \"What about this message   02/15/2021\"]"
   ]
  },
  {
   "cell_type": "code",
   "execution_count": 8,
   "metadata": {},
   "outputs": [],
   "source": [
    "# I want a dictionary that contains the message and the date\n",
    "data = []\n",
    "\n",
    "for log in logs:\n",
    "    splits = log.split()\n",
    "    data.append({'message': \" \".join(splits[:-1]), 'date': splits[-1]})"
   ]
  },
  {
   "cell_type": "code",
   "execution_count": 9,
   "metadata": {},
   "outputs": [
    {
     "data": {
      "text/plain": [
       "[{'message': 'No problem', 'date': '03/02/2021'},\n",
       " {'message': 'There was a problem', 'date': '03/02/2021'},\n",
       " {'message': 'I saw some coyotes on my lawn', 'date': '02/01/2021'}]"
      ]
     },
     "execution_count": 9,
     "metadata": {},
     "output_type": "execute_result"
    }
   ],
   "source": [
    "data"
   ]
  },
  {
   "cell_type": "code",
   "execution_count": 22,
   "metadata": {},
   "outputs": [
    {
     "data": {
      "text/plain": [
       "[{'message': 'No problem', 'date': '03/02/2021'},\n",
       " {'message': 'There was a problem', 'date': '03/02/2021'},\n",
       " {'message': 'I saw some coyotes on my lawn', 'date': '02/01/2021'},\n",
       " {'message': 'What about this message   02/15/2021',\n",
       "  'date': 'What about this message   02/15/2021'}]"
      ]
     },
     "execution_count": 22,
     "metadata": {},
     "output_type": "execute_result"
    }
   ],
   "source": [
    "from datetime import datetime\n",
    "\n",
    "data = []\n",
    "\n",
    "for log in logs:\n",
    "    splits = log.split(\"    \")\n",
    "    #data.append({'message': splits[0], 'date': datetime.strptime(splits[-1], '%m/%d/%Y')})\n",
    "    data.append({'message': splits[0], 'date': splits[-1]})\n",
    "\n",
    "data"
   ]
  },
  {
   "cell_type": "code",
   "execution_count": 16,
   "metadata": {},
   "outputs": [
    {
     "data": {
      "text/plain": [
       "'No problem    03/02/2021'"
      ]
     },
     "execution_count": 16,
     "metadata": {},
     "output_type": "execute_result"
    }
   ],
   "source": [
    "logs[0].split(\"\\t\")[0]"
   ]
  },
  {
   "cell_type": "code",
   "execution_count": 18,
   "metadata": {},
   "outputs": [
    {
     "data": {
      "text/plain": [
       "['No problem', '03/02/2021']"
      ]
     },
     "execution_count": 18,
     "metadata": {},
     "output_type": "execute_result"
    }
   ],
   "source": [
    "\"No problem\\t03/02/2021\".split(\"\\t\")"
   ]
  },
  {
   "cell_type": "code",
   "execution_count": 23,
   "metadata": {},
   "outputs": [
    {
     "data": {
      "text/plain": [
       "''"
      ]
     },
     "execution_count": 23,
     "metadata": {},
     "output_type": "execute_result"
    }
   ],
   "source": [
    "\"  \".strip()"
   ]
  },
  {
   "cell_type": "code",
   "execution_count": 24,
   "metadata": {},
   "outputs": [
    {
     "data": {
      "text/plain": [
       "'No problem'"
      ]
     },
     "execution_count": 24,
     "metadata": {},
     "output_type": "execute_result"
    }
   ],
   "source": [
    "\" No problem   \".strip()"
   ]
  },
  {
   "cell_type": "code",
   "execution_count": null,
   "metadata": {},
   "outputs": [],
   "source": []
  }
 ],
 "metadata": {
  "kernelspec": {
   "display_name": "Python 3",
   "language": "python",
   "name": "python3"
  },
  "language_info": {
   "codemirror_mode": {
    "name": "ipython",
    "version": 3
   },
   "file_extension": ".py",
   "mimetype": "text/x-python",
   "name": "python",
   "nbconvert_exporter": "python",
   "pygments_lexer": "ipython3",
   "version": "3.7.3"
  }
 },
 "nbformat": 4,
 "nbformat_minor": 2
}
